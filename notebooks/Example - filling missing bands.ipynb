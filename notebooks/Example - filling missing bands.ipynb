{
 "cells": [
  {
   "cell_type": "markdown",
   "metadata": {},
   "source": [
    "# Tutorial: filling in missing bands"
   ]
  },
  {
   "cell_type": "markdown",
   "metadata": {},
   "source": [
    "We will use the parameter file \"tests/parametersTest.cfg\".\n",
    "This contains a description of the bands and data to be used.\n",
    "In this example we will generate mock data for the ugriz SDSS bands,\n",
    "fit each object with our GP using ugi bands only and see how it predicts the rz bands.\n",
    "This is an example for filling in/predicting missing bands in a fully bayesian way\n",
    "with a flexible SED model quickly via our photo-z GP."
   ]
  },
  {
   "cell_type": "code",
   "execution_count": 1,
   "metadata": {},
   "outputs": [],
   "source": [
    "%matplotlib inline\n",
    "import numpy as np\n",
    "import matplotlib.pyplot as plt\n",
    "import scipy.stats\n",
    "import sys\n",
    "sys.path.append('../')\n",
    "from delight.io import *\n",
    "from delight.utils import *\n",
    "from delight.photoz_gp import PhotozGP"
   ]
  },
  {
   "cell_type": "code",
   "execution_count": 2,
   "metadata": {},
   "outputs": [
    {
     "name": "stdout",
     "output_type": "stream",
     "text": [
      "/Users/sylvie/MacOSX/GitHub/LSST/Delight\n"
     ]
    }
   ],
   "source": [
    "%cd .."
   ]
  },
  {
   "cell_type": "code",
   "execution_count": 3,
   "metadata": {},
   "outputs": [
    {
     "name": "stdout",
     "output_type": "stream",
     "text": [
      "U_SDSS G_SDSS R_SDSS I_SDSS Z_SDSS "
     ]
    }
   ],
   "source": [
    "# First, we must fit the band filters with a gaussian mixture. \n",
    "# This is done with this script:\n",
    "%run ./scripts/processFilters.py tests/parametersTest.cfg"
   ]
  },
  {
   "cell_type": "code",
   "execution_count": 4,
   "metadata": {},
   "outputs": [],
   "source": [
    "# Second, we will process the library of SEDs and project them onto the filters,\n",
    "# (for the mean fct of the GP) with the following script:\n",
    "%run ./scripts/processSEDs.py tests/parametersTest.cfg"
   ]
  },
  {
   "cell_type": "code",
   "execution_count": 5,
   "metadata": {},
   "outputs": [],
   "source": [
    "# Third, we will make some mock data with those filters and SEDs:\n",
    "%run ./scripts/simulateWithSEDs.py tests/parametersTest.cfg"
   ]
  },
  {
   "cell_type": "code",
   "execution_count": 6,
   "metadata": {},
   "outputs": [
    {
     "name": "stdout",
     "output_type": "stream",
     "text": [
      "Number of Training Objects 1000\n"
     ]
    },
    {
     "name": "stderr",
     "output_type": "stream",
     "text": [
      "<ipython-input-6-956743507d78>:9: DeprecationWarning: Calling np.sum(generator) is deprecated, and in the future will give a different result. Use np.sum(np.fromiter(generator)) or the python sum builtin instead.\n",
      "  numObjectsTraining = np.sum(1 for line in open(params['training_catFile']))\n"
     ]
    }
   ],
   "source": [
    "# Now we load the parameter file and the useful quantities\n",
    "params = parseParamFile('tests/parametersTest.cfg', verbose=False)\n",
    "bandCoefAmplitudes, bandCoefPositions, bandCoefWidths, norms\\\n",
    "    = readBandCoefficients(params)\n",
    "bandNames = params['bandNames']\n",
    "numBands, numCoefs = bandCoefAmplitudes.shape\n",
    "redshiftDistGrid, redshiftGrid, redshiftGridGP = createGrids(params)\n",
    "f_mod = readSEDs(params) # Reads the SED library.\n",
    "numObjectsTraining = np.sum(1 for line in open(params['training_catFile']))\n",
    "print('Number of Training Objects', numObjectsTraining)"
   ]
  },
  {
   "cell_type": "code",
   "execution_count": 7,
   "metadata": {},
   "outputs": [],
   "source": [
    "# Create the GP (create interpolation grid for kernel + other internal stuff). May take a while.\n",
    "gp = PhotozGP(f_mod, bandCoefAmplitudes, bandCoefPositions, bandCoefWidths,\n",
    "              params['lines_pos'], params['lines_width'],\n",
    "              params['V_C'], params['V_L'],\n",
    "              params['alpha_C'], params['alpha_L'],\n",
    "              redshiftGridGP, use_interpolators=True)"
   ]
  },
  {
   "cell_type": "code",
   "execution_count": 8,
   "metadata": {},
   "outputs": [],
   "source": [
    "# Load useful quantities for the training set.\n",
    "# \"CV\" means quantities for the bands used for cross-validation.\n",
    "# In this example we will drop a couple of bands in the training data \n",
    "# and use them for cross-validation, as shown in the parameter file.\n",
    "bandIndicesCV, bandNamesCV, bandColumnsCV,\\\n",
    "    bandVarColumnsCV, redshiftColumnCV =\\\n",
    "    readColumnPositions(params, prefix=\"training_CV_\", refFlux=False)\n",
    "numBandsCV = bandIndicesCV.size"
   ]
  },
  {
   "cell_type": "code",
   "execution_count": 9,
   "metadata": {},
   "outputs": [
    {
     "ename": "IndexError",
     "evalue": "arrays used as indices must be of integer (or boolean) type",
     "output_type": "error",
     "traceback": [
      "\u001b[0;31m---------------------------------------------------------------------------\u001b[0m",
      "\u001b[0;31mIndexError\u001b[0m                                Traceback (most recent call last)",
      "\u001b[0;32m<ipython-input-9-a5942f711543>\u001b[0m in \u001b[0;36m<module>\u001b[0;34m\u001b[0m\n\u001b[1;32m     39\u001b[0m     \u001b[0mind\u001b[0m \u001b[0;34m=\u001b[0m \u001b[0mnp\u001b[0m\u001b[0;34m.\u001b[0m\u001b[0marray\u001b[0m\u001b[0;34m(\u001b[0m\u001b[0;34m[\u001b[0m\u001b[0mlist\u001b[0m\u001b[0;34m(\u001b[0m\u001b[0mbandIndicesCV\u001b[0m\u001b[0;34m)\u001b[0m\u001b[0;34m.\u001b[0m\u001b[0mindex\u001b[0m\u001b[0;34m(\u001b[0m\u001b[0mb\u001b[0m\u001b[0;34m)\u001b[0m \u001b[0;32mfor\u001b[0m \u001b[0mb\u001b[0m \u001b[0;32min\u001b[0m \u001b[0mbandsCV\u001b[0m\u001b[0;34m]\u001b[0m\u001b[0;34m)\u001b[0m\u001b[0;34m\u001b[0m\u001b[0;34m\u001b[0m\u001b[0m\n\u001b[1;32m     40\u001b[0m     \u001b[0;31m# Compute chi2 for SDSS bands\u001b[0m\u001b[0;34m\u001b[0m\u001b[0;34m\u001b[0m\u001b[0;34m\u001b[0m\u001b[0m\n\u001b[0;32m---> 41\u001b[0;31m     \u001b[0mall_chi2s\u001b[0m\u001b[0;34m[\u001b[0m\u001b[0mloc\u001b[0m\u001b[0;34m,\u001b[0m \u001b[0mind\u001b[0m\u001b[0;34m]\u001b[0m \u001b[0;34m=\u001b[0m\u001b[0;31m\\\u001b[0m\u001b[0;34m\u001b[0m\u001b[0;34m\u001b[0m\u001b[0m\n\u001b[0m\u001b[1;32m     42\u001b[0m         \u001b[0;34m(\u001b[0m\u001b[0mmodel_mean\u001b[0m\u001b[0;34m[\u001b[0m\u001b[0;36m0\u001b[0m\u001b[0;34m,\u001b[0m \u001b[0mbandsCV\u001b[0m\u001b[0;34m]\u001b[0m \u001b[0;34m-\u001b[0m \u001b[0mfluxesCV\u001b[0m\u001b[0;34m)\u001b[0m\u001b[0;34m**\u001b[0m\u001b[0;36m2\u001b[0m \u001b[0;34m/\u001b[0m\u001b[0;31m\\\u001b[0m\u001b[0;34m\u001b[0m\u001b[0;34m\u001b[0m\u001b[0m\n\u001b[1;32m     43\u001b[0m         \u001b[0;34m(\u001b[0m\u001b[0mmodel_covar\u001b[0m\u001b[0;34m[\u001b[0m\u001b[0;36m0\u001b[0m\u001b[0;34m,\u001b[0m \u001b[0mbandsCV\u001b[0m\u001b[0;34m]\u001b[0m \u001b[0;34m+\u001b[0m \u001b[0mfluxesVarCV\u001b[0m\u001b[0;34m)\u001b[0m\u001b[0;34m\u001b[0m\u001b[0;34m\u001b[0m\u001b[0m\n",
      "\u001b[0;31mIndexError\u001b[0m: arrays used as indices must be of integer (or boolean) type"
     ]
    }
   ],
   "source": [
    "# Loop and parse the training set, fit the GP to the deep bands, \n",
    "# and run cross-validation against the cross-validation bands.\n",
    "# We will store a bunch of things, including the chi2 of the fit.\n",
    "numZ = redshiftGrid.size\n",
    "all_z = np.zeros((numObjectsTraining, ))\n",
    "all_fluxes = np.zeros((numObjectsTraining, numBands))\n",
    "all_fluxes_var = np.zeros((numObjectsTraining, numBands))\n",
    "all_fluxesCV = np.zeros((numObjectsTraining, numBands))\n",
    "all_fluxesCV_var = np.zeros((numObjectsTraining, numBands))\n",
    "all_chi2s = np.zeros((numObjectsTraining, numBandsCV))\n",
    "all_bestTypes = np.zeros((numObjectsTraining, ), dtype=int)\n",
    "\n",
    "loc = - 1\n",
    "trainingDataIter1 = getDataFromFile(params, 0, numObjectsTraining,\n",
    "                                    prefix=\"training_\", getXY=True,\n",
    "                                    CV=True)\n",
    "for z, normedRefFlux,\\\n",
    "    bands, fluxes, fluxesVar,\\\n",
    "    bandsCV, fluxesCV, fluxesVarCV,\\\n",
    "        X, Y, Yvar in trainingDataIter1:\n",
    "    loc += 1\n",
    "\n",
    "    # Interpolate template library at spectroscopic redshift\n",
    "    themod = np.zeros((1, f_mod.shape[0], bands.size))\n",
    "    for it in range(f_mod.shape[0]):\n",
    "        for ib, band in enumerate(bands):\n",
    "            themod[0, it, ib] = f_mod[it, band](z)\n",
    "    # Run color likelihood to find best template and ML luminosity\n",
    "    chi2_grid, ellMLs = scalefree_flux_likelihood(fluxes, fluxesVar, themod, returnChi2=True)\n",
    "    bestType = np.argmin(chi2_grid)\n",
    "    ell = ellMLs[0, bestType]\n",
    "    # Use them in the GP\n",
    "    X[:, 2] = ell\n",
    "    gp.setData(X, Y, Yvar, bestType)\n",
    "    \n",
    "    # Make predictions for all bands (noiseless) from the GP\n",
    "    model_mean, model_covar\\\n",
    "        = gp.predictAndInterpolate(np.array([z]), ell=ell)\n",
    "    ind = np.array([list(bandIndicesCV).index(b) for b in bandsCV])\n",
    "    # Compute chi2 for SDSS bands\n",
    "    all_chi2s[loc, ind] =\\\n",
    "        (model_mean[0, bandsCV] - fluxesCV)**2 /\\\n",
    "        (model_covar[0, bandsCV] + fluxesVarCV)\n",
    "        \n",
    "    # Store a few useful quantities\n",
    "    all_z[loc] = z\n",
    "    all_bestTypes[loc] = bestType\n",
    "    all_fluxes[loc, bands] = fluxes\n",
    "    all_fluxes_var[loc, bands] = fluxesVar\n",
    "    all_fluxesCV[loc, bandsCV] = fluxesCV\n",
    "    all_fluxesCV_var[loc, bandsCV] = fluxesVarCV"
   ]
  },
  {
   "cell_type": "code",
   "execution_count": null,
   "metadata": {},
   "outputs": [],
   "source": [
    "# Plot the chi2 distributions for each band (1 degree of freedom)\n",
    "fig, axs = plt.subplots(2, 2, figsize=(6, 4), sharex=True)\n",
    "x = np.linspace(0, 3, 50)\n",
    "for i, ib in enumerate(bandsCV):    \n",
    "    axs[0, i].plot(x, scipy.stats.chi2.pdf(x, 1), 'k')\n",
    "    axs[0, i].hist(all_chi2s[:, i], 20, range=[0, x[-1]], histtype='step', normed=True, lw=1)\n",
    "    axs[1, i].plot(x, scipy.stats.chi2.pdf(x, 1), 'k')\n",
    "    axs[1, i].hist(all_chi2s[:, i], 20, range=[0, x[-1]], histtype='step', normed=True, lw=1)\n",
    "    axs[1, i].set_yscale('log')\n",
    "    axs[1, i].set_xlabel('$\\chi^2$')\n",
    "    axs[0, i].set_title(bandNames[ib])\n",
    "    if i == 0:\n",
    "        axs[0, i].set_ylabel('$F(\\chi^2)$')\n",
    "        axs[1, i].set_ylabel('$\\log_{10}\\ F(\\chi^2)$')\n",
    "    else:\n",
    "        axs[0, i].set_yticks([])\n",
    "        axs[1, i].set_yticks([])\n",
    "fig.tight_layout()"
   ]
  },
  {
   "cell_type": "code",
   "execution_count": null,
   "metadata": {},
   "outputs": [],
   "source": []
  }
 ],
 "metadata": {
  "anaconda-cloud": {},
  "kernelspec": {
   "display_name": "Python 3",
   "language": "python",
   "name": "python3"
  },
  "language_info": {
   "codemirror_mode": {
    "name": "ipython",
    "version": 3
   },
   "file_extension": ".py",
   "mimetype": "text/x-python",
   "name": "python",
   "nbconvert_exporter": "python",
   "pygments_lexer": "ipython3",
   "version": "3.8.5"
  }
 },
 "nbformat": 4,
 "nbformat_minor": 1
}
